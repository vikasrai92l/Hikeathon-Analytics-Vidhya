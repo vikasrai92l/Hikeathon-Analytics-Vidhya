{
 "cells": [
  {
   "cell_type": "code",
   "execution_count": 1,
   "metadata": {},
   "outputs": [],
   "source": [
    "import pandas as pd\n",
    "import csv"
   ]
  },
  {
   "cell_type": "code",
   "execution_count": 2,
   "metadata": {},
   "outputs": [],
   "source": [
    "nodes=pd.read_csv('train/train.csv')\n",
    "node_feat=pd.read_csv('train/user_features.csv')\n",
    "testdata=pd.read_csv('test/test.csv')"
   ]
  },
  {
   "cell_type": "code",
   "execution_count": 3,
   "metadata": {},
   "outputs": [
    {
     "name": "stdout",
     "output_type": "stream",
     "text": [
      "<class 'pandas.core.frame.DataFrame'>\n",
      "RangeIndex: 70661802 entries, 0 to 70661801\n",
      "Data columns (total 3 columns):\n",
      "node1_id    int64\n",
      "node2_id    int64\n",
      "is_chat     int64\n",
      "dtypes: int64(3)\n",
      "memory usage: 1.6 GB\n"
     ]
    }
   ],
   "source": [
    "nodes.info()"
   ]
  },
  {
   "cell_type": "code",
   "execution_count": 4,
   "metadata": {},
   "outputs": [
    {
     "data": {
      "text/plain": [
       "Index(['node1_id', 'node2_id', 'is_chat'], dtype='object')"
      ]
     },
     "execution_count": 4,
     "metadata": {},
     "output_type": "execute_result"
    }
   ],
   "source": [
    "nodes.columns"
   ]
  },
  {
   "cell_type": "code",
   "execution_count": 5,
   "metadata": {},
   "outputs": [],
   "source": [
    "nodes.node1_id=nodes.node1_id.astype('uint32')\n",
    "nodes.node2_id=nodes.node2_id.astype('uint32')\n",
    "nodes.is_chat=nodes.is_chat.astype('uint8')"
   ]
  },
  {
   "cell_type": "code",
   "execution_count": 6,
   "metadata": {},
   "outputs": [
    {
     "name": "stdout",
     "output_type": "stream",
     "text": [
      "<class 'pandas.core.frame.DataFrame'>\n",
      "RangeIndex: 70661802 entries, 0 to 70661801\n",
      "Data columns (total 3 columns):\n",
      "node1_id    uint32\n",
      "node2_id    uint32\n",
      "is_chat     uint8\n",
      "dtypes: uint32(2), uint8(1)\n",
      "memory usage: 606.5 MB\n"
     ]
    }
   ],
   "source": [
    "nodes.info()"
   ]
  },
  {
   "cell_type": "code",
   "execution_count": 7,
   "metadata": {},
   "outputs": [
    {
     "data": {
      "text/plain": [
       "3528628"
      ]
     },
     "execution_count": 7,
     "metadata": {},
     "output_type": "execute_result"
    }
   ],
   "source": [
    "nodes['node1_id'].nunique()"
   ]
  },
  {
   "cell_type": "code",
   "execution_count": 8,
   "metadata": {},
   "outputs": [
    {
     "data": {
      "text/plain": [
       "7935955"
      ]
     },
     "execution_count": 8,
     "metadata": {},
     "output_type": "execute_result"
    }
   ],
   "source": [
    "nodes['node2_id'].nunique()"
   ]
  },
  {
   "cell_type": "code",
   "execution_count": 9,
   "metadata": {},
   "outputs": [
    {
     "name": "stdout",
     "output_type": "stream",
     "text": [
      "<class 'pandas.core.frame.DataFrame'>\n",
      "RangeIndex: 8264276 entries, 0 to 8264275\n",
      "Data columns (total 14 columns):\n",
      "node_id    int64\n",
      "f1         int64\n",
      "f2         int64\n",
      "f3         int64\n",
      "f4         int64\n",
      "f5         int64\n",
      "f6         int64\n",
      "f7         int64\n",
      "f8         int64\n",
      "f9         int64\n",
      "f10        int64\n",
      "f11        int64\n",
      "f12        int64\n",
      "f13        int64\n",
      "dtypes: int64(14)\n",
      "memory usage: 882.7 MB\n"
     ]
    }
   ],
   "source": [
    "node_feat.info()"
   ]
  },
  {
   "cell_type": "code",
   "execution_count": 10,
   "metadata": {},
   "outputs": [],
   "source": [
    "node_feat.node_id=node_feat.node_id.astype('uint32')\n",
    "node_feat.f1=node_feat.f1.astype('uint8')\n",
    "node_feat.f2=node_feat.f2.astype('uint8')\n",
    "node_feat.f3=node_feat.f3.astype('uint8')\n",
    "node_feat.f4=node_feat.f4.astype('uint8')\n",
    "node_feat.f5=node_feat.f5.astype('uint8')\n",
    "node_feat.f6=node_feat.f6.astype('uint8')\n",
    "node_feat.f7=node_feat.f7.astype('uint8')\n",
    "node_feat.f8=node_feat.f8.astype('uint8')\n",
    "node_feat.f9=node_feat.f9.astype('uint8')\n",
    "node_feat.f10=node_feat.f10.astype('uint8')\n",
    "node_feat.f11=node_feat.f11.astype('uint8')\n",
    "node_feat.f12=node_feat.f12.astype('uint8')\n",
    "node_feat.f13=node_feat.f13.astype('uint8')"
   ]
  },
  {
   "cell_type": "code",
   "execution_count": 11,
   "metadata": {
    "scrolled": true
   },
   "outputs": [
    {
     "name": "stdout",
     "output_type": "stream",
     "text": [
      "<class 'pandas.core.frame.DataFrame'>\n",
      "RangeIndex: 8264276 entries, 0 to 8264275\n",
      "Data columns (total 14 columns):\n",
      "node_id    uint32\n",
      "f1         uint8\n",
      "f2         uint8\n",
      "f3         uint8\n",
      "f4         uint8\n",
      "f5         uint8\n",
      "f6         uint8\n",
      "f7         uint8\n",
      "f8         uint8\n",
      "f9         uint8\n",
      "f10        uint8\n",
      "f11        uint8\n",
      "f12        uint8\n",
      "f13        uint8\n",
      "dtypes: uint32(1), uint8(13)\n",
      "memory usage: 134.0 MB\n"
     ]
    }
   ],
   "source": [
    "node_feat.info()"
   ]
  },
  {
   "cell_type": "code",
   "execution_count": 12,
   "metadata": {},
   "outputs": [
    {
     "name": "stdout",
     "output_type": "stream",
     "text": [
      "<class 'pandas.core.frame.DataFrame'>\n",
      "RangeIndex: 11776968 entries, 0 to 11776967\n",
      "Data columns (total 3 columns):\n",
      "id          int64\n",
      "node1_id    int64\n",
      "node2_id    int64\n",
      "dtypes: int64(3)\n",
      "memory usage: 269.6 MB\n"
     ]
    }
   ],
   "source": [
    "testdata.info()"
   ]
  },
  {
   "cell_type": "code",
   "execution_count": 13,
   "metadata": {},
   "outputs": [],
   "source": [
    "testdata.node1_id=testdata.node1_id.astype('uint32')\n",
    "testdata.node2_id=testdata.node2_id.astype('uint32')\n",
    "testdata.id=testdata.id.astype('uint32')"
   ]
  },
  {
   "cell_type": "code",
   "execution_count": 14,
   "metadata": {},
   "outputs": [
    {
     "name": "stdout",
     "output_type": "stream",
     "text": [
      "<class 'pandas.core.frame.DataFrame'>\n",
      "RangeIndex: 11776968 entries, 0 to 11776967\n",
      "Data columns (total 3 columns):\n",
      "id          uint32\n",
      "node1_id    uint32\n",
      "node2_id    uint32\n",
      "dtypes: uint32(3)\n",
      "memory usage: 134.8 MB\n"
     ]
    }
   ],
   "source": [
    "testdata.info()"
   ]
  },
  {
   "cell_type": "code",
   "execution_count": 15,
   "metadata": {},
   "outputs": [],
   "source": [
    "a=pd.merge(testdata,node_feat,how='left',left_on='node1_id',right_on='node_id')"
   ]
  },
  {
   "cell_type": "code",
   "execution_count": 16,
   "metadata": {},
   "outputs": [],
   "source": [
    "del a['node_id']"
   ]
  },
  {
   "cell_type": "code",
   "execution_count": 17,
   "metadata": {},
   "outputs": [],
   "source": [
    "b=pd.merge(a,node_feat,how='left',left_on='node2_id',right_on='node_id',suffixes=('_left', '_right'))"
   ]
  },
  {
   "cell_type": "code",
   "execution_count": 18,
   "metadata": {},
   "outputs": [],
   "source": [
    "del b['node_id']"
   ]
  },
  {
   "cell_type": "code",
   "execution_count": 19,
   "metadata": {},
   "outputs": [],
   "source": [
    "import numpy as np\n",
    "b['f1_diff']=(b['f1_left']-b['f1_right']).astype('int8')\n",
    "b['f2_diff']=(b['f2_left']-b['f2_right']).astype('int8')\n",
    "b['f3_diff']=(b['f3_left']-b['f3_right']).astype('int8')\n",
    "b['f4_diff']=(b['f4_left']-b['f4_right']).astype('int8')\n",
    "b['f5_diff']=(b['f5_left']-b['f5_right']).astype('int8')\n",
    "b['f6_diff']=(b['f6_left']-b['f6_right']).astype('int8')\n",
    "b['f7_diff']=(b['f7_left']-b['f7_right']).astype('int8')\n",
    "b['f8_diff']=(b['f8_left']-b['f8_right']).astype('int8')\n",
    "b['f9_diff']=(b['f9_left']-b['f9_right']).astype('int8')\n",
    "b['f10_diff']=(b['f10_left']-b['f10_right']).astype('int8')\n",
    "b['f11_diff']=(b['f11_left']-b['f11_right']).astype('int8')\n",
    "b['f12_diff']=(b['f12_left']-b['f12_right']).astype('int8')\n",
    "b['f13_diff']=(b['f13_left']-b['f13_right']).astype('int8')"
   ]
  },
  {
   "cell_type": "code",
   "execution_count": 20,
   "metadata": {},
   "outputs": [
    {
     "data": {
      "text/html": [
       "<div>\n",
       "<style scoped>\n",
       "    .dataframe tbody tr th:only-of-type {\n",
       "        vertical-align: middle;\n",
       "    }\n",
       "\n",
       "    .dataframe tbody tr th {\n",
       "        vertical-align: top;\n",
       "    }\n",
       "\n",
       "    .dataframe thead th {\n",
       "        text-align: right;\n",
       "    }\n",
       "</style>\n",
       "<table border=\"1\" class=\"dataframe\">\n",
       "  <thead>\n",
       "    <tr style=\"text-align: right;\">\n",
       "      <th></th>\n",
       "      <th>f2_left</th>\n",
       "      <th>f2_right</th>\n",
       "    </tr>\n",
       "  </thead>\n",
       "  <tbody>\n",
       "    <tr>\n",
       "      <th>0</th>\n",
       "      <td>6</td>\n",
       "      <td>24</td>\n",
       "    </tr>\n",
       "    <tr>\n",
       "      <th>1</th>\n",
       "      <td>0</td>\n",
       "      <td>0</td>\n",
       "    </tr>\n",
       "    <tr>\n",
       "      <th>2</th>\n",
       "      <td>1</td>\n",
       "      <td>0</td>\n",
       "    </tr>\n",
       "    <tr>\n",
       "      <th>3</th>\n",
       "      <td>5</td>\n",
       "      <td>0</td>\n",
       "    </tr>\n",
       "    <tr>\n",
       "      <th>4</th>\n",
       "      <td>31</td>\n",
       "      <td>0</td>\n",
       "    </tr>\n",
       "  </tbody>\n",
       "</table>\n",
       "</div>"
      ],
      "text/plain": [
       "   f2_left  f2_right\n",
       "0        6        24\n",
       "1        0         0\n",
       "2        1         0\n",
       "3        5         0\n",
       "4       31         0"
      ]
     },
     "execution_count": 20,
     "metadata": {},
     "output_type": "execute_result"
    }
   ],
   "source": [
    "b.loc[:,['f2_left','f2_right']].head()"
   ]
  },
  {
   "cell_type": "code",
   "execution_count": 21,
   "metadata": {},
   "outputs": [],
   "source": [
    "feat=b.loc[:,['f1_diff','f2_diff','f3_diff','f4_diff','f5_diff','f6_diff','f7_diff','f8_diff','f9_diff','f10_diff','f11_diff','f12_diff','f13_diff']]"
   ]
  },
  {
   "cell_type": "code",
   "execution_count": 22,
   "metadata": {},
   "outputs": [
    {
     "data": {
      "text/html": [
       "<div>\n",
       "<style scoped>\n",
       "    .dataframe tbody tr th:only-of-type {\n",
       "        vertical-align: middle;\n",
       "    }\n",
       "\n",
       "    .dataframe tbody tr th {\n",
       "        vertical-align: top;\n",
       "    }\n",
       "\n",
       "    .dataframe thead th {\n",
       "        text-align: right;\n",
       "    }\n",
       "</style>\n",
       "<table border=\"1\" class=\"dataframe\">\n",
       "  <thead>\n",
       "    <tr style=\"text-align: right;\">\n",
       "      <th></th>\n",
       "      <th>f1_diff</th>\n",
       "      <th>f2_diff</th>\n",
       "      <th>f3_diff</th>\n",
       "      <th>f4_diff</th>\n",
       "      <th>f5_diff</th>\n",
       "      <th>f6_diff</th>\n",
       "      <th>f7_diff</th>\n",
       "      <th>f8_diff</th>\n",
       "      <th>f9_diff</th>\n",
       "      <th>f10_diff</th>\n",
       "      <th>f11_diff</th>\n",
       "      <th>f12_diff</th>\n",
       "      <th>f13_diff</th>\n",
       "    </tr>\n",
       "  </thead>\n",
       "  <tbody>\n",
       "    <tr>\n",
       "      <th>0</th>\n",
       "      <td>0</td>\n",
       "      <td>-18</td>\n",
       "      <td>-1</td>\n",
       "      <td>0</td>\n",
       "      <td>-18</td>\n",
       "      <td>-2</td>\n",
       "      <td>0</td>\n",
       "      <td>-17</td>\n",
       "      <td>-2</td>\n",
       "      <td>0</td>\n",
       "      <td>-17</td>\n",
       "      <td>-3</td>\n",
       "      <td>0</td>\n",
       "    </tr>\n",
       "    <tr>\n",
       "      <th>1</th>\n",
       "      <td>0</td>\n",
       "      <td>0</td>\n",
       "      <td>0</td>\n",
       "      <td>0</td>\n",
       "      <td>0</td>\n",
       "      <td>0</td>\n",
       "      <td>0</td>\n",
       "      <td>0</td>\n",
       "      <td>0</td>\n",
       "      <td>6</td>\n",
       "      <td>0</td>\n",
       "      <td>0</td>\n",
       "      <td>0</td>\n",
       "    </tr>\n",
       "    <tr>\n",
       "      <th>2</th>\n",
       "      <td>1</td>\n",
       "      <td>1</td>\n",
       "      <td>1</td>\n",
       "      <td>0</td>\n",
       "      <td>0</td>\n",
       "      <td>0</td>\n",
       "      <td>0</td>\n",
       "      <td>0</td>\n",
       "      <td>0</td>\n",
       "      <td>0</td>\n",
       "      <td>0</td>\n",
       "      <td>0</td>\n",
       "      <td>0</td>\n",
       "    </tr>\n",
       "    <tr>\n",
       "      <th>3</th>\n",
       "      <td>14</td>\n",
       "      <td>5</td>\n",
       "      <td>1</td>\n",
       "      <td>12</td>\n",
       "      <td>4</td>\n",
       "      <td>1</td>\n",
       "      <td>5</td>\n",
       "      <td>2</td>\n",
       "      <td>1</td>\n",
       "      <td>-1</td>\n",
       "      <td>-1</td>\n",
       "      <td>0</td>\n",
       "      <td>0</td>\n",
       "    </tr>\n",
       "    <tr>\n",
       "      <th>4</th>\n",
       "      <td>31</td>\n",
       "      <td>31</td>\n",
       "      <td>31</td>\n",
       "      <td>31</td>\n",
       "      <td>31</td>\n",
       "      <td>31</td>\n",
       "      <td>30</td>\n",
       "      <td>30</td>\n",
       "      <td>29</td>\n",
       "      <td>30</td>\n",
       "      <td>30</td>\n",
       "      <td>29</td>\n",
       "      <td>0</td>\n",
       "    </tr>\n",
       "  </tbody>\n",
       "</table>\n",
       "</div>"
      ],
      "text/plain": [
       "   f1_diff  f2_diff  f3_diff  f4_diff  f5_diff  f6_diff  f7_diff  f8_diff  \\\n",
       "0        0      -18       -1        0      -18       -2        0      -17   \n",
       "1        0        0        0        0        0        0        0        0   \n",
       "2        1        1        1        0        0        0        0        0   \n",
       "3       14        5        1       12        4        1        5        2   \n",
       "4       31       31       31       31       31       31       30       30   \n",
       "\n",
       "   f9_diff  f10_diff  f11_diff  f12_diff  f13_diff  \n",
       "0       -2         0       -17        -3         0  \n",
       "1        0         6         0         0         0  \n",
       "2        0         0         0         0         0  \n",
       "3        1        -1        -1         0         0  \n",
       "4       29        30        30        29         0  "
      ]
     },
     "execution_count": 22,
     "metadata": {},
     "output_type": "execute_result"
    }
   ],
   "source": [
    "feat.head()"
   ]
  },
  {
   "cell_type": "code",
   "execution_count": 23,
   "metadata": {},
   "outputs": [],
   "source": [
    "fsame=(feat==0).astype(int).sum(axis=1)\n",
    "fsame1=(feat==1).astype(int).sum(axis=1)\n",
    "fsame2=(feat==2).astype(int).sum(axis=1)\n",
    "fsame3=(feat==3).astype(int).sum(axis=1)\n",
    "fsame4=(feat==4).astype(int).sum(axis=1)"
   ]
  },
  {
   "cell_type": "code",
   "execution_count": 24,
   "metadata": {},
   "outputs": [],
   "source": [
    "f=fsame+fsame1+fsame2+fsame3+fsame4"
   ]
  },
  {
   "cell_type": "code",
   "execution_count": 25,
   "metadata": {},
   "outputs": [
    {
     "data": {
      "text/plain": [
       "0     5\n",
       "1    12\n",
       "2    13\n",
       "3     7\n",
       "4     1\n",
       "dtype: int64"
      ]
     },
     "execution_count": 25,
     "metadata": {},
     "output_type": "execute_result"
    }
   ],
   "source": [
    "f.head()"
   ]
  },
  {
   "cell_type": "code",
   "execution_count": 26,
   "metadata": {},
   "outputs": [],
   "source": [
    "prediction=pd.concat([testdata,pd.DataFrame(f)],axis=1)"
   ]
  },
  {
   "cell_type": "code",
   "execution_count": 27,
   "metadata": {},
   "outputs": [],
   "source": [
    "prediction['prob']=prediction[0]/13"
   ]
  },
  {
   "cell_type": "code",
   "execution_count": 28,
   "metadata": {},
   "outputs": [],
   "source": [
    "prediction.loc[:,['id','prob']].to_csv('Submission3.csv',index=False)"
   ]
  },
  {
   "cell_type": "code",
   "execution_count": 29,
   "metadata": {},
   "outputs": [],
   "source": [
    "edges=nodes[nodes['is_chat']==1]"
   ]
  },
  {
   "cell_type": "code",
   "execution_count": 30,
   "metadata": {},
   "outputs": [
    {
     "data": {
      "text/html": [
       "<div>\n",
       "<style scoped>\n",
       "    .dataframe tbody tr th:only-of-type {\n",
       "        vertical-align: middle;\n",
       "    }\n",
       "\n",
       "    .dataframe tbody tr th {\n",
       "        vertical-align: top;\n",
       "    }\n",
       "\n",
       "    .dataframe thead th {\n",
       "        text-align: right;\n",
       "    }\n",
       "</style>\n",
       "<table border=\"1\" class=\"dataframe\">\n",
       "  <thead>\n",
       "    <tr style=\"text-align: right;\">\n",
       "      <th></th>\n",
       "      <th>node1_id</th>\n",
       "      <th>node2_id</th>\n",
       "      <th>is_chat</th>\n",
       "    </tr>\n",
       "  </thead>\n",
       "  <tbody>\n",
       "    <tr>\n",
       "      <th>7</th>\n",
       "      <td>7159649</td>\n",
       "      <td>7791327</td>\n",
       "      <td>1</td>\n",
       "    </tr>\n",
       "    <tr>\n",
       "      <th>19</th>\n",
       "      <td>4771042</td>\n",
       "      <td>998845</td>\n",
       "      <td>1</td>\n",
       "    </tr>\n",
       "    <tr>\n",
       "      <th>59</th>\n",
       "      <td>3079025</td>\n",
       "      <td>3410678</td>\n",
       "      <td>1</td>\n",
       "    </tr>\n",
       "    <tr>\n",
       "      <th>82</th>\n",
       "      <td>3651503</td>\n",
       "      <td>3656309</td>\n",
       "      <td>1</td>\n",
       "    </tr>\n",
       "    <tr>\n",
       "      <th>93</th>\n",
       "      <td>6434643</td>\n",
       "      <td>1107217</td>\n",
       "      <td>1</td>\n",
       "    </tr>\n",
       "  </tbody>\n",
       "</table>\n",
       "</div>"
      ],
      "text/plain": [
       "    node1_id  node2_id  is_chat\n",
       "7    7159649   7791327        1\n",
       "19   4771042    998845        1\n",
       "59   3079025   3410678        1\n",
       "82   3651503   3656309        1\n",
       "93   6434643   1107217        1"
      ]
     },
     "execution_count": 30,
     "metadata": {},
     "output_type": "execute_result"
    }
   ],
   "source": [
    "edges.head()"
   ]
  },
  {
   "cell_type": "code",
   "execution_count": 31,
   "metadata": {},
   "outputs": [],
   "source": [
    "edges=edges.sort_values(by=['node1_id','node2_id'])"
   ]
  },
  {
   "cell_type": "code",
   "execution_count": 33,
   "metadata": {},
   "outputs": [
    {
     "data": {
      "text/html": [
       "<div>\n",
       "<style scoped>\n",
       "    .dataframe tbody tr th:only-of-type {\n",
       "        vertical-align: middle;\n",
       "    }\n",
       "\n",
       "    .dataframe tbody tr th {\n",
       "        vertical-align: top;\n",
       "    }\n",
       "\n",
       "    .dataframe thead th {\n",
       "        text-align: right;\n",
       "    }\n",
       "</style>\n",
       "<table border=\"1\" class=\"dataframe\">\n",
       "  <thead>\n",
       "    <tr style=\"text-align: right;\">\n",
       "      <th></th>\n",
       "      <th>node1_id</th>\n",
       "      <th>node2_id</th>\n",
       "      <th>is_chat</th>\n",
       "    </tr>\n",
       "  </thead>\n",
       "  <tbody>\n",
       "    <tr>\n",
       "      <th>10107341</th>\n",
       "      <td>8</td>\n",
       "      <td>2281445</td>\n",
       "      <td>1</td>\n",
       "    </tr>\n",
       "    <tr>\n",
       "      <th>187484</th>\n",
       "      <td>10</td>\n",
       "      <td>464456</td>\n",
       "      <td>1</td>\n",
       "    </tr>\n",
       "    <tr>\n",
       "      <th>46772173</th>\n",
       "      <td>10</td>\n",
       "      <td>1225900</td>\n",
       "      <td>1</td>\n",
       "    </tr>\n",
       "    <tr>\n",
       "      <th>11103564</th>\n",
       "      <td>10</td>\n",
       "      <td>4123946</td>\n",
       "      <td>1</td>\n",
       "    </tr>\n",
       "    <tr>\n",
       "      <th>28471617</th>\n",
       "      <td>10</td>\n",
       "      <td>5481388</td>\n",
       "      <td>1</td>\n",
       "    </tr>\n",
       "  </tbody>\n",
       "</table>\n",
       "</div>"
      ],
      "text/plain": [
       "          node1_id  node2_id  is_chat\n",
       "10107341         8   2281445        1\n",
       "187484          10    464456        1\n",
       "46772173        10   1225900        1\n",
       "11103564        10   4123946        1\n",
       "28471617        10   5481388        1"
      ]
     },
     "execution_count": 33,
     "metadata": {},
     "output_type": "execute_result"
    }
   ],
   "source": [
    "edges.head()"
   ]
  },
  {
   "cell_type": "code",
   "execution_count": 34,
   "metadata": {},
   "outputs": [
    {
     "data": {
      "text/plain": [
       "2572226"
      ]
     },
     "execution_count": 34,
     "metadata": {},
     "output_type": "execute_result"
    }
   ],
   "source": [
    "x=np.concatenate((edges['node1_id'].unique(),edges['node2_id'].unique()))\n",
    "x.size"
   ]
  },
  {
   "cell_type": "code",
   "execution_count": 35,
   "metadata": {},
   "outputs": [
    {
     "data": {
      "text/plain": [
       "1899068"
      ]
     },
     "execution_count": 35,
     "metadata": {},
     "output_type": "execute_result"
    }
   ],
   "source": [
    "len(np.unique(x))"
   ]
  },
  {
   "cell_type": "code",
   "execution_count": 36,
   "metadata": {},
   "outputs": [],
   "source": [
    "train1=nodes.sample(frac=0.1,replace=False,random_state=28)"
   ]
  },
  {
   "cell_type": "code",
   "execution_count": 37,
   "metadata": {},
   "outputs": [
    {
     "name": "stdout",
     "output_type": "stream",
     "text": [
      "<class 'pandas.core.frame.DataFrame'>\n",
      "Int64Index: 7066180 entries, 2250101 to 17970744\n",
      "Data columns (total 3 columns):\n",
      "node1_id    uint32\n",
      "node2_id    uint32\n",
      "is_chat     uint8\n",
      "dtypes: uint32(2), uint8(1)\n",
      "memory usage: 114.6 MB\n"
     ]
    }
   ],
   "source": [
    "train1.info()"
   ]
  },
  {
   "cell_type": "code",
   "execution_count": 38,
   "metadata": {},
   "outputs": [],
   "source": [
    "train1=pd.merge(train1,node_feat,how='left',left_on='node1_id',right_on='node_id')"
   ]
  },
  {
   "cell_type": "code",
   "execution_count": 39,
   "metadata": {},
   "outputs": [],
   "source": [
    "train1=pd.merge(train1,node_feat,how='left',left_on='node2_id',right_on='node_id',suffixes=('_left', '_right'))"
   ]
  },
  {
   "cell_type": "code",
   "execution_count": 40,
   "metadata": {},
   "outputs": [
    {
     "data": {
      "text/plain": [
       "Index(['node1_id', 'node2_id', 'is_chat', 'node_id_left', 'f1_left', 'f2_left',\n",
       "       'f3_left', 'f4_left', 'f5_left', 'f6_left', 'f7_left', 'f8_left',\n",
       "       'f9_left', 'f10_left', 'f11_left', 'f12_left', 'f13_left',\n",
       "       'node_id_right', 'f1_right', 'f2_right', 'f3_right', 'f4_right',\n",
       "       'f5_right', 'f6_right', 'f7_right', 'f8_right', 'f9_right', 'f10_right',\n",
       "       'f11_right', 'f12_right', 'f13_right'],\n",
       "      dtype='object')"
      ]
     },
     "execution_count": 40,
     "metadata": {},
     "output_type": "execute_result"
    }
   ],
   "source": [
    "train1.columns"
   ]
  },
  {
   "cell_type": "code",
   "execution_count": 41,
   "metadata": {},
   "outputs": [],
   "source": [
    "del train1['node_id_left']\n",
    "del train1['node_id_right']"
   ]
  },
  {
   "cell_type": "code",
   "execution_count": 42,
   "metadata": {},
   "outputs": [
    {
     "data": {
      "text/plain": [
       "Index(['node1_id', 'node2_id', 'is_chat', 'f1_left', 'f2_left', 'f3_left',\n",
       "       'f4_left', 'f5_left', 'f6_left', 'f7_left', 'f8_left', 'f9_left',\n",
       "       'f10_left', 'f11_left', 'f12_left', 'f13_left', 'f1_right', 'f2_right',\n",
       "       'f3_right', 'f4_right', 'f5_right', 'f6_right', 'f7_right', 'f8_right',\n",
       "       'f9_right', 'f10_right', 'f11_right', 'f12_right', 'f13_right'],\n",
       "      dtype='object')"
      ]
     },
     "execution_count": 42,
     "metadata": {},
     "output_type": "execute_result"
    }
   ],
   "source": [
    "train1.columns"
   ]
  },
  {
   "cell_type": "code",
   "execution_count": 43,
   "metadata": {},
   "outputs": [],
   "source": [
    "X_test=b.copy()"
   ]
  },
  {
   "cell_type": "code",
   "execution_count": 44,
   "metadata": {},
   "outputs": [],
   "source": [
    "del X_test['f1_diff']\n",
    "del X_test['f2_diff']\n",
    "del X_test['f3_diff']\n",
    "del X_test['f4_diff']\n",
    "del X_test['f5_diff']\n",
    "del X_test['f6_diff']\n",
    "del X_test['f7_diff']\n",
    "del X_test['f8_diff']\n",
    "del X_test['f9_diff']\n",
    "del X_test['f10_diff']\n",
    "del X_test['f11_diff']\n",
    "del X_test['f12_diff']\n",
    "del X_test['f13_diff']"
   ]
  },
  {
   "cell_type": "code",
   "execution_count": 45,
   "metadata": {},
   "outputs": [],
   "source": [
    "X_train=train1.loc[:,['f1_left', 'f2_left', 'f3_left',\n",
    "       'f4_left', 'f5_left', 'f6_left', 'f7_left', 'f8_left', 'f9_left',\n",
    "       'f10_left', 'f11_left', 'f12_left', 'f13_left', 'f1_right', 'f2_right',\n",
    "       'f3_right', 'f4_right', 'f5_right', 'f6_right', 'f7_right', 'f8_right',\n",
    "       'f9_right', 'f10_right', 'f11_right', 'f12_right', 'f13_right']].values"
   ]
  },
  {
   "cell_type": "code",
   "execution_count": 46,
   "metadata": {},
   "outputs": [],
   "source": [
    "y=train1['is_chat'].values"
   ]
  },
  {
   "cell_type": "code",
   "execution_count": 47,
   "metadata": {},
   "outputs": [],
   "source": [
    "import lightgbm as lgb\n",
    "d_train = lgb.Dataset(X_train, label=y)\n",
    "params = {\n",
    "    'objective' :'binary',\n",
    "    'learning_rate' : 0.1,\n",
    "    'num_leaves' : 76,\n",
    "    'feature_fraction': 0.64, \n",
    "    'bagging_fraction': 0.8, \n",
    "    'boosting_type' : 'gbdt',\n",
    "    'metric': 'binary_logloss'\n",
    "}\n",
    "model1 = lgb.train(params, train_set=d_train, num_boost_round=3200, verbose_eval=50) "
   ]
  },
  {
   "cell_type": "code",
   "execution_count": 49,
   "metadata": {},
   "outputs": [],
   "source": [
    "X_test=b.loc[:,['f1_left', 'f2_left', 'f3_left',\n",
    "       'f4_left', 'f5_left', 'f6_left', 'f7_left', 'f8_left', 'f9_left',\n",
    "       'f10_left', 'f11_left', 'f12_left', 'f13_left', 'f1_right', 'f2_right',\n",
    "       'f3_right', 'f4_right', 'f5_right', 'f6_right', 'f7_right', 'f8_right',\n",
    "       'f9_right', 'f10_right', 'f11_right', 'f12_right', 'f13_right']].values"
   ]
  },
  {
   "cell_type": "code",
   "execution_count": 50,
   "metadata": {},
   "outputs": [],
   "source": [
    "pred=model1.predict(X_test)"
   ]
  },
  {
   "cell_type": "code",
   "execution_count": 53,
   "metadata": {},
   "outputs": [],
   "source": [
    "prediction1=pd.concat([testdata,pd.Series(pred)],axis=1)"
   ]
  },
  {
   "cell_type": "code",
   "execution_count": 57,
   "metadata": {},
   "outputs": [],
   "source": [
    "d=prediction1.loc[:,['id',0]]"
   ]
  },
  {
   "cell_type": "code",
   "execution_count": 59,
   "metadata": {},
   "outputs": [
    {
     "name": "stdout",
     "output_type": "stream",
     "text": [
      "<class 'pandas.core.frame.DataFrame'>\n",
      "RangeIndex: 11776968 entries, 0 to 11776967\n",
      "Data columns (total 2 columns):\n",
      "id    uint32\n",
      "0     float64\n",
      "dtypes: float64(1), uint32(1)\n",
      "memory usage: 134.8 MB\n"
     ]
    }
   ],
   "source": [
    "d.info()"
   ]
  },
  {
   "cell_type": "code",
   "execution_count": 58,
   "metadata": {},
   "outputs": [],
   "source": [
    "d.to_csv('Submission5.csv',index=False)"
   ]
  },
  {
   "cell_type": "code",
   "execution_count": 60,
   "metadata": {},
   "outputs": [],
   "source": [
    "params = {\n",
    "    'objective' :'binary',\n",
    "    'learning_rate' : 0.01,\n",
    "    'num_leaves' : 76,\n",
    "    'feature_fraction': 0.64, \n",
    "    'bagging_fraction': 0.8, \n",
    "    'boosting_type' : 'gbdt',\n",
    "    'metric': 'binary_logloss'\n",
    "}\n",
    "model2 = lgb.train(params, train_set=d_train, num_boost_round=3200, verbose_eval=50) "
   ]
  },
  {
   "cell_type": "code",
   "execution_count": 62,
   "metadata": {},
   "outputs": [],
   "source": [
    "pred2=model2.predict(X_test)\n",
    "prediction2=pd.concat([testdata,pd.Series(pred2).astype('float32')],axis=1)"
   ]
  },
  {
   "cell_type": "code",
   "execution_count": 63,
   "metadata": {},
   "outputs": [],
   "source": [
    "e=prediction2.loc[:,['id',0]]\n",
    "e.to_csv('Submission6.csv',index=False)"
   ]
  },
  {
   "cell_type": "code",
   "execution_count": 67,
   "metadata": {},
   "outputs": [],
   "source": [
    "neighbors=edges.groupby('node1_id').count()"
   ]
  },
  {
   "cell_type": "code",
   "execution_count": 69,
   "metadata": {},
   "outputs": [
    {
     "data": {
      "text/html": [
       "<div>\n",
       "<style scoped>\n",
       "    .dataframe tbody tr th:only-of-type {\n",
       "        vertical-align: middle;\n",
       "    }\n",
       "\n",
       "    .dataframe tbody tr th {\n",
       "        vertical-align: top;\n",
       "    }\n",
       "\n",
       "    .dataframe thead th {\n",
       "        text-align: right;\n",
       "    }\n",
       "</style>\n",
       "<table border=\"1\" class=\"dataframe\">\n",
       "  <thead>\n",
       "    <tr style=\"text-align: right;\">\n",
       "      <th></th>\n",
       "      <th>node2_id</th>\n",
       "      <th>is_chat</th>\n",
       "    </tr>\n",
       "    <tr>\n",
       "      <th>node1_id</th>\n",
       "      <th></th>\n",
       "      <th></th>\n",
       "    </tr>\n",
       "  </thead>\n",
       "  <tbody>\n",
       "    <tr>\n",
       "      <th>8</th>\n",
       "      <td>1</td>\n",
       "      <td>1</td>\n",
       "    </tr>\n",
       "    <tr>\n",
       "      <th>10</th>\n",
       "      <td>6</td>\n",
       "      <td>6</td>\n",
       "    </tr>\n",
       "    <tr>\n",
       "      <th>15</th>\n",
       "      <td>1</td>\n",
       "      <td>1</td>\n",
       "    </tr>\n",
       "    <tr>\n",
       "      <th>20</th>\n",
       "      <td>4</td>\n",
       "      <td>4</td>\n",
       "    </tr>\n",
       "    <tr>\n",
       "      <th>22</th>\n",
       "      <td>1</td>\n",
       "      <td>1</td>\n",
       "    </tr>\n",
       "  </tbody>\n",
       "</table>\n",
       "</div>"
      ],
      "text/plain": [
       "          node2_id  is_chat\n",
       "node1_id                   \n",
       "8                1        1\n",
       "10               6        6\n",
       "15               1        1\n",
       "20               4        4\n",
       "22               1        1"
      ]
     },
     "execution_count": 69,
     "metadata": {},
     "output_type": "execute_result"
    }
   ],
   "source": [
    "neighbors.head()"
   ]
  },
  {
   "cell_type": "code",
   "execution_count": 68,
   "metadata": {},
   "outputs": [],
   "source": [
    "neighbors2=edges.groupby('node2_id').count()"
   ]
  },
  {
   "cell_type": "code",
   "execution_count": 70,
   "metadata": {},
   "outputs": [
    {
     "data": {
      "text/html": [
       "<div>\n",
       "<style scoped>\n",
       "    .dataframe tbody tr th:only-of-type {\n",
       "        vertical-align: middle;\n",
       "    }\n",
       "\n",
       "    .dataframe tbody tr th {\n",
       "        vertical-align: top;\n",
       "    }\n",
       "\n",
       "    .dataframe thead th {\n",
       "        text-align: right;\n",
       "    }\n",
       "</style>\n",
       "<table border=\"1\" class=\"dataframe\">\n",
       "  <thead>\n",
       "    <tr style=\"text-align: right;\">\n",
       "      <th></th>\n",
       "      <th>node1_id</th>\n",
       "      <th>is_chat</th>\n",
       "    </tr>\n",
       "    <tr>\n",
       "      <th>node2_id</th>\n",
       "      <th></th>\n",
       "      <th></th>\n",
       "    </tr>\n",
       "  </thead>\n",
       "  <tbody>\n",
       "    <tr>\n",
       "      <th>3</th>\n",
       "      <td>2</td>\n",
       "      <td>2</td>\n",
       "    </tr>\n",
       "    <tr>\n",
       "      <th>6</th>\n",
       "      <td>1</td>\n",
       "      <td>1</td>\n",
       "    </tr>\n",
       "    <tr>\n",
       "      <th>8</th>\n",
       "      <td>1</td>\n",
       "      <td>1</td>\n",
       "    </tr>\n",
       "    <tr>\n",
       "      <th>9</th>\n",
       "      <td>1</td>\n",
       "      <td>1</td>\n",
       "    </tr>\n",
       "    <tr>\n",
       "      <th>10</th>\n",
       "      <td>7</td>\n",
       "      <td>7</td>\n",
       "    </tr>\n",
       "  </tbody>\n",
       "</table>\n",
       "</div>"
      ],
      "text/plain": [
       "          node1_id  is_chat\n",
       "node2_id                   \n",
       "3                2        2\n",
       "6                1        1\n",
       "8                1        1\n",
       "9                1        1\n",
       "10               7        7"
      ]
     },
     "execution_count": 70,
     "metadata": {},
     "output_type": "execute_result"
    }
   ],
   "source": [
    "neighbors2.head()"
   ]
  },
  {
   "cell_type": "code",
   "execution_count": 71,
   "metadata": {},
   "outputs": [],
   "source": [
    "train1=pd.merge(train1,neighbors,how='left',left_on='node1_id',right_index=True,suffixes=('_left', '_right'))"
   ]
  },
  {
   "cell_type": "code",
   "execution_count": 74,
   "metadata": {},
   "outputs": [],
   "source": [
    "del train1['node2_id_right']"
   ]
  },
  {
   "cell_type": "code",
   "execution_count": 82,
   "metadata": {},
   "outputs": [
    {
     "data": {
      "text/plain": [
       "Index(['node1_id', 'node2_id_left', 'is_chat_left', 'f1_left', 'f2_left',\n",
       "       'f3_left', 'f4_left', 'f5_left', 'f6_left', 'f7_left', 'f8_left',\n",
       "       'f9_left', 'f10_left', 'f11_left', 'f12_left', 'f13_left', 'f1_right',\n",
       "       'f2_right', 'f3_right', 'f4_right', 'f5_right', 'f6_right', 'f7_right',\n",
       "       'f8_right', 'f9_right', 'f10_right', 'f11_right', 'f12_right',\n",
       "       'f13_right', 'nbrs1'],\n",
       "      dtype='object')"
      ]
     },
     "execution_count": 82,
     "metadata": {},
     "output_type": "execute_result"
    }
   ],
   "source": [
    "train1.columns"
   ]
  },
  {
   "cell_type": "code",
   "execution_count": 79,
   "metadata": {},
   "outputs": [],
   "source": [
    "train1['nbrs1']=train1['is_chat_right'].fillna(0)"
   ]
  },
  {
   "cell_type": "code",
   "execution_count": 81,
   "metadata": {},
   "outputs": [],
   "source": [
    "del train1['is_chat_right']"
   ]
  },
  {
   "cell_type": "code",
   "execution_count": 84,
   "metadata": {},
   "outputs": [],
   "source": [
    "train1=pd.merge(train1,neighbors2,how='left',left_on='node2_id_left',right_index=True,suffixes=('_left', '_right'))"
   ]
  },
  {
   "cell_type": "code",
   "execution_count": 87,
   "metadata": {},
   "outputs": [],
   "source": [
    "train1['nbrs2']=train1['is_chat'].fillna(0)"
   ]
  },
  {
   "cell_type": "code",
   "execution_count": 89,
   "metadata": {},
   "outputs": [],
   "source": [
    "del train1['node1_id_right']\n",
    "del train1['is_chat']"
   ]
  },
  {
   "cell_type": "code",
   "execution_count": 91,
   "metadata": {},
   "outputs": [
    {
     "data": {
      "text/plain": [
       "Index(['node1_id_left', 'node2_id_left', 'is_chat_left', 'f1_left', 'f2_left',\n",
       "       'f3_left', 'f4_left', 'f5_left', 'f6_left', 'f7_left', 'f8_left',\n",
       "       'f9_left', 'f10_left', 'f11_left', 'f12_left', 'f13_left', 'f1_right',\n",
       "       'f2_right', 'f3_right', 'f4_right', 'f5_right', 'f6_right', 'f7_right',\n",
       "       'f8_right', 'f9_right', 'f10_right', 'f11_right', 'f12_right',\n",
       "       'f13_right', 'nbrs1', 'nbrs2'],\n",
       "      dtype='object')"
      ]
     },
     "execution_count": 91,
     "metadata": {},
     "output_type": "execute_result"
    }
   ],
   "source": [
    "train1.columns"
   ]
  },
  {
   "cell_type": "code",
   "execution_count": 92,
   "metadata": {},
   "outputs": [],
   "source": [
    "X_train2=train1.loc[:,['f1_left', 'f2_left', 'f3_left',\n",
    "       'f4_left', 'f5_left', 'f6_left', 'f7_left', 'f8_left', 'f9_left',\n",
    "       'f10_left', 'f11_left', 'f12_left', 'f13_left', 'f1_right', 'f2_right',\n",
    "       'f3_right', 'f4_right', 'f5_right', 'f6_right', 'f7_right', 'f8_right',\n",
    "       'f9_right', 'f10_right', 'f11_right', 'f12_right', 'f13_right','nbrs1', 'nbrs2']].values"
   ]
  },
  {
   "cell_type": "code",
   "execution_count": 93,
   "metadata": {},
   "outputs": [],
   "source": [
    "y=train1['is_chat_left'].values"
   ]
  },
  {
   "cell_type": "code",
   "execution_count": 94,
   "metadata": {},
   "outputs": [],
   "source": [
    "import lightgbm as lgb\n",
    "d_train = lgb.Dataset(X_train2, label=y)\n",
    "params = {\n",
    "    'objective' :'binary',\n",
    "    'learning_rate' : 0.01,\n",
    "    'num_leaves' : 76,\n",
    "    'feature_fraction': 0.64, \n",
    "    'bagging_fraction': 0.8, \n",
    "    'boosting_type' : 'gbdt',\n",
    "    'metric': 'binary_logloss'\n",
    "}\n",
    "model3 = lgb.train(params, train_set=d_train, num_boost_round=3200, verbose_eval=50) "
   ]
  },
  {
   "cell_type": "code",
   "execution_count": 97,
   "metadata": {},
   "outputs": [],
   "source": [
    "X_test2=b.copy()"
   ]
  },
  {
   "cell_type": "code",
   "execution_count": 99,
   "metadata": {},
   "outputs": [],
   "source": [
    "del X_test2['f1_diff']\n",
    "del X_test2['f2_diff']\n",
    "del X_test2['f3_diff']\n",
    "del X_test2['f4_diff']\n",
    "del X_test2['f5_diff']\n",
    "del X_test2['f6_diff']\n",
    "del X_test2['f7_diff']\n",
    "del X_test2['f8_diff']\n",
    "del X_test2['f9_diff']\n",
    "del X_test2['f10_diff']\n",
    "del X_test2['f11_diff']\n",
    "del X_test2['f12_diff']\n",
    "del X_test2['f13_diff']"
   ]
  },
  {
   "cell_type": "code",
   "execution_count": 100,
   "metadata": {},
   "outputs": [],
   "source": [
    "X_test2=pd.merge(X_test2,neighbors,how='left',left_on='node1_id',right_index=True,suffixes=('_left', '_right'))"
   ]
  },
  {
   "cell_type": "code",
   "execution_count": 102,
   "metadata": {},
   "outputs": [],
   "source": [
    "del X_test2['node2_id_right']"
   ]
  },
  {
   "cell_type": "code",
   "execution_count": 109,
   "metadata": {},
   "outputs": [
    {
     "data": {
      "text/html": [
       "<div>\n",
       "<style scoped>\n",
       "    .dataframe tbody tr th:only-of-type {\n",
       "        vertical-align: middle;\n",
       "    }\n",
       "\n",
       "    .dataframe tbody tr th {\n",
       "        vertical-align: top;\n",
       "    }\n",
       "\n",
       "    .dataframe thead th {\n",
       "        text-align: right;\n",
       "    }\n",
       "</style>\n",
       "<table border=\"1\" class=\"dataframe\">\n",
       "  <thead>\n",
       "    <tr style=\"text-align: right;\">\n",
       "      <th></th>\n",
       "      <th>id</th>\n",
       "      <th>node1_id_left</th>\n",
       "      <th>node2_id_left</th>\n",
       "      <th>f1_left</th>\n",
       "      <th>f2_left</th>\n",
       "      <th>f3_left</th>\n",
       "      <th>f4_left</th>\n",
       "      <th>f5_left</th>\n",
       "      <th>f6_left</th>\n",
       "      <th>f7_left</th>\n",
       "      <th>...</th>\n",
       "      <th>f7_right</th>\n",
       "      <th>f8_right</th>\n",
       "      <th>f9_right</th>\n",
       "      <th>f10_right</th>\n",
       "      <th>f11_right</th>\n",
       "      <th>f12_right</th>\n",
       "      <th>f13_right</th>\n",
       "      <th>nbrs1</th>\n",
       "      <th>node1_id_right</th>\n",
       "      <th>is_chat</th>\n",
       "    </tr>\n",
       "  </thead>\n",
       "  <tbody>\n",
       "    <tr>\n",
       "      <th>0</th>\n",
       "      <td>1</td>\n",
       "      <td>7107094</td>\n",
       "      <td>8010772</td>\n",
       "      <td>31</td>\n",
       "      <td>6</td>\n",
       "      <td>1</td>\n",
       "      <td>31</td>\n",
       "      <td>6</td>\n",
       "      <td>1</td>\n",
       "      <td>31</td>\n",
       "      <td>...</td>\n",
       "      <td>31</td>\n",
       "      <td>25</td>\n",
       "      <td>3</td>\n",
       "      <td>31</td>\n",
       "      <td>26</td>\n",
       "      <td>4</td>\n",
       "      <td>15</td>\n",
       "      <td>0.0</td>\n",
       "      <td>NaN</td>\n",
       "      <td>NaN</td>\n",
       "    </tr>\n",
       "    <tr>\n",
       "      <th>1</th>\n",
       "      <td>2</td>\n",
       "      <td>7995251</td>\n",
       "      <td>2805801</td>\n",
       "      <td>0</td>\n",
       "      <td>0</td>\n",
       "      <td>0</td>\n",
       "      <td>0</td>\n",
       "      <td>0</td>\n",
       "      <td>0</td>\n",
       "      <td>0</td>\n",
       "      <td>...</td>\n",
       "      <td>0</td>\n",
       "      <td>0</td>\n",
       "      <td>0</td>\n",
       "      <td>0</td>\n",
       "      <td>0</td>\n",
       "      <td>0</td>\n",
       "      <td>7</td>\n",
       "      <td>0.0</td>\n",
       "      <td>3.0</td>\n",
       "      <td>3.0</td>\n",
       "    </tr>\n",
       "    <tr>\n",
       "      <th>2</th>\n",
       "      <td>3</td>\n",
       "      <td>2804693</td>\n",
       "      <td>8059549</td>\n",
       "      <td>1</td>\n",
       "      <td>1</td>\n",
       "      <td>1</td>\n",
       "      <td>0</td>\n",
       "      <td>0</td>\n",
       "      <td>0</td>\n",
       "      <td>0</td>\n",
       "      <td>...</td>\n",
       "      <td>0</td>\n",
       "      <td>0</td>\n",
       "      <td>0</td>\n",
       "      <td>0</td>\n",
       "      <td>0</td>\n",
       "      <td>0</td>\n",
       "      <td>15</td>\n",
       "      <td>0.0</td>\n",
       "      <td>NaN</td>\n",
       "      <td>NaN</td>\n",
       "    </tr>\n",
       "    <tr>\n",
       "      <th>3</th>\n",
       "      <td>4</td>\n",
       "      <td>4812472</td>\n",
       "      <td>7332370</td>\n",
       "      <td>14</td>\n",
       "      <td>5</td>\n",
       "      <td>1</td>\n",
       "      <td>12</td>\n",
       "      <td>4</td>\n",
       "      <td>1</td>\n",
       "      <td>6</td>\n",
       "      <td>...</td>\n",
       "      <td>1</td>\n",
       "      <td>1</td>\n",
       "      <td>0</td>\n",
       "      <td>1</td>\n",
       "      <td>1</td>\n",
       "      <td>0</td>\n",
       "      <td>15</td>\n",
       "      <td>0.0</td>\n",
       "      <td>NaN</td>\n",
       "      <td>NaN</td>\n",
       "    </tr>\n",
       "    <tr>\n",
       "      <th>4</th>\n",
       "      <td>5</td>\n",
       "      <td>5009985</td>\n",
       "      <td>4511909</td>\n",
       "      <td>31</td>\n",
       "      <td>31</td>\n",
       "      <td>31</td>\n",
       "      <td>31</td>\n",
       "      <td>31</td>\n",
       "      <td>31</td>\n",
       "      <td>31</td>\n",
       "      <td>...</td>\n",
       "      <td>1</td>\n",
       "      <td>1</td>\n",
       "      <td>1</td>\n",
       "      <td>1</td>\n",
       "      <td>1</td>\n",
       "      <td>1</td>\n",
       "      <td>7</td>\n",
       "      <td>1.0</td>\n",
       "      <td>NaN</td>\n",
       "      <td>NaN</td>\n",
       "    </tr>\n",
       "  </tbody>\n",
       "</table>\n",
       "<p>5 rows × 32 columns</p>\n",
       "</div>"
      ],
      "text/plain": [
       "   id  node1_id_left  node2_id_left  f1_left  f2_left  f3_left  f4_left  \\\n",
       "0   1        7107094        8010772       31        6        1       31   \n",
       "1   2        7995251        2805801        0        0        0        0   \n",
       "2   3        2804693        8059549        1        1        1        0   \n",
       "3   4        4812472        7332370       14        5        1       12   \n",
       "4   5        5009985        4511909       31       31       31       31   \n",
       "\n",
       "   f5_left  f6_left  f7_left   ...     f7_right  f8_right  f9_right  \\\n",
       "0        6        1       31   ...           31        25         3   \n",
       "1        0        0        0   ...            0         0         0   \n",
       "2        0        0        0   ...            0         0         0   \n",
       "3        4        1        6   ...            1         1         0   \n",
       "4       31       31       31   ...            1         1         1   \n",
       "\n",
       "   f10_right  f11_right  f12_right  f13_right  nbrs1  node1_id_right  is_chat  \n",
       "0         31         26          4         15    0.0             NaN      NaN  \n",
       "1          0          0          0          7    0.0             3.0      3.0  \n",
       "2          0          0          0         15    0.0             NaN      NaN  \n",
       "3          1          1          0         15    0.0             NaN      NaN  \n",
       "4          1          1          1          7    1.0             NaN      NaN  \n",
       "\n",
       "[5 rows x 32 columns]"
      ]
     },
     "execution_count": 109,
     "metadata": {},
     "output_type": "execute_result"
    }
   ],
   "source": [
    "X_test2.head()"
   ]
  },
  {
   "cell_type": "code",
   "execution_count": 106,
   "metadata": {},
   "outputs": [],
   "source": [
    "X_test2['nbrs1']=X_test2['is_chat'].fillna(0)\n",
    "del X_test2['is_chat']"
   ]
  },
  {
   "cell_type": "code",
   "execution_count": 108,
   "metadata": {},
   "outputs": [],
   "source": [
    "X_test2=pd.merge(X_test2,neighbors2,how='left',left_on='node2_id_left',right_index=True,suffixes=('_left', '_right'))"
   ]
  },
  {
   "cell_type": "code",
   "execution_count": 110,
   "metadata": {},
   "outputs": [],
   "source": [
    "X_test2['nbrs2']=X_test2['is_chat'].fillna(0)\n",
    "del X_test2['is_chat']\n",
    "del X_test2['node1_id_right']"
   ]
  },
  {
   "cell_type": "code",
   "execution_count": 111,
   "metadata": {},
   "outputs": [
    {
     "data": {
      "text/plain": [
       "Index(['id', 'node1_id_left', 'node2_id_left', 'f1_left', 'f2_left', 'f3_left',\n",
       "       'f4_left', 'f5_left', 'f6_left', 'f7_left', 'f8_left', 'f9_left',\n",
       "       'f10_left', 'f11_left', 'f12_left', 'f13_left', 'f1_right', 'f2_right',\n",
       "       'f3_right', 'f4_right', 'f5_right', 'f6_right', 'f7_right', 'f8_right',\n",
       "       'f9_right', 'f10_right', 'f11_right', 'f12_right', 'f13_right', 'nbrs1',\n",
       "       'nbrs2'],\n",
       "      dtype='object')"
      ]
     },
     "execution_count": 111,
     "metadata": {},
     "output_type": "execute_result"
    }
   ],
   "source": [
    "X_test2.columns"
   ]
  },
  {
   "cell_type": "code",
   "execution_count": 112,
   "metadata": {},
   "outputs": [],
   "source": [
    "X_test2=X_test2.loc[:,['f1_left', 'f2_left', 'f3_left',\n",
    "       'f4_left', 'f5_left', 'f6_left', 'f7_left', 'f8_left', 'f9_left',\n",
    "       'f10_left', 'f11_left', 'f12_left', 'f13_left', 'f1_right', 'f2_right',\n",
    "       'f3_right', 'f4_right', 'f5_right', 'f6_right', 'f7_right', 'f8_right',\n",
    "       'f9_right', 'f10_right', 'f11_right', 'f12_right', 'f13_right','nbrs1', 'nbrs2']].values"
   ]
  },
  {
   "cell_type": "code",
   "execution_count": 113,
   "metadata": {},
   "outputs": [],
   "source": [
    "pred3=model3.predict(X_test2)\n",
    "prediction3=pd.concat([testdata,pd.Series(pred3).astype('float32')],axis=1)"
   ]
  },
  {
   "cell_type": "code",
   "execution_count": 114,
   "metadata": {},
   "outputs": [],
   "source": [
    "f=prediction3.loc[:,['id',0]]\n",
    "f.to_csv('Submission7.csv',index=False)"
   ]
  }
 ],
 "metadata": {
  "kernelspec": {
   "display_name": "Python 3",
   "language": "python",
   "name": "python3"
  }
 },
 "nbformat": 4,
 "nbformat_minor": 2
}
